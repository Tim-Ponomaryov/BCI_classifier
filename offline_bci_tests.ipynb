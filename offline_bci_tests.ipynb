{
 "cells": [
  {
   "cell_type": "markdown",
   "metadata": {},
   "source": [
    "Пример анализа с использованием эмулятора работы нейроинтерфейса\n",
    "\n",
    "Дальнейшие задачи:\n",
    "* Уточнить эвристику для интерфейса\n",
    "* Разобраться как повсеместно зафиксировать seed\n",
    "* Тестирование на различном числе усреднений эпох\n",
    "* Тестирование с различными классификаторами\n",
    "* F-beta (torchmetrics fbeta_score)\n",
    "* Добавить веса в BCE"
   ]
  },
  {
   "cell_type": "code",
   "execution_count": 1,
   "metadata": {},
   "outputs": [],
   "source": [
    "import numpy as np\n",
    "import pandas as pd\n",
    "import seaborn as sns\n",
    "from matplotlib import pyplot as plt\n",
    "import os"
   ]
  },
  {
   "cell_type": "code",
   "execution_count": 2,
   "metadata": {},
   "outputs": [],
   "source": [
    "from eeg_dataset_utils import EEGDataset, EEGDatasetAdvanced, my_train_test_split, sampling\n",
    "from offline_bci import OfflineBCI, split_by_words"
   ]
  },
  {
   "cell_type": "markdown",
   "metadata": {},
   "source": [
    "## ML"
   ]
  },
  {
   "cell_type": "code",
   "execution_count": 3,
   "metadata": {},
   "outputs": [],
   "source": [
    "from sklearn.svm import SVC\n",
    "from sklearn.preprocessing import RobustScaler\n",
    "from sklearn.pipeline import make_pipeline"
   ]
  },
  {
   "cell_type": "code",
   "execution_count": 4,
   "metadata": {},
   "outputs": [],
   "source": [
    "# Sampling\n",
    "from imblearn.over_sampling import SMOTE\n",
    "from imblearn.under_sampling import RandomUnderSampler\n",
    "from imblearn.pipeline import Pipeline as ImbPipeline"
   ]
  },
  {
   "cell_type": "code",
   "execution_count": 5,
   "metadata": {},
   "outputs": [],
   "source": [
    "# Channel sets for testing\n",
    "ch_set4 = ['Fz', 'Pz', 'Cz', 'POz']\n",
    "ch_set8 = ['Fz', 'Pz', 'Cz', 'POz', 'P3', 'P4', 'P7', 'P3']\n",
    "ch_set15 = ['Cz', 'Pz', 'POz', 'P1', 'P2', 'P3','P4', 'P5', 'P6', 'P7', 'P8', 'PO3', 'PO4', 'O1', 'O2']"
   ]
  },
  {
   "cell_type": "markdown",
   "metadata": {},
   "source": [
    "Загрузка датасета, выбор каналов, ресемплинг"
   ]
  },
  {
   "cell_type": "code",
   "execution_count": 6,
   "metadata": {},
   "outputs": [],
   "source": [
    "rd = 'd:\\\\Study\\\\MSUAI\\\\P300BCI_ordered_DataSet'"
   ]
  },
  {
   "cell_type": "code",
   "execution_count": 194,
   "metadata": {},
   "outputs": [
    {
     "data": {
      "text/plain": [
       "(3599, 8, 21)"
      ]
     },
     "execution_count": 194,
     "metadata": {},
     "output_type": "execute_result"
    }
   ],
   "source": [
    "downsample = 15 # 500 -> 35 Hz\n",
    "\n",
    "dataset = EEGDataset(rd, 'ik')\n",
    "dataset.pick_channels(ch_set8)\n",
    "dataset.x = dataset.x[:,:,::downsample]\n",
    "\n",
    "dataset.x.shape"
   ]
  },
  {
   "cell_type": "markdown",
   "metadata": {},
   "source": [
    "Разделение на train и test  \n",
    "Производить необходимо на основании группировки по словам из эксперимента, для этого разработана функция `split_by_words`\n",
    "\n",
    "Затем в тренировочной выборке производится балансирование классов"
   ]
  },
  {
   "cell_type": "code",
   "execution_count": 198,
   "metadata": {},
   "outputs": [
    {
     "name": "stdout",
     "output_type": "stream",
     "text": [
      "train_size (before averaging): 2699\n",
      "train_size (after averaging): 336\n",
      "test_size (no averaging): 900\n",
      "test size after balancing: 336\n"
     ]
    }
   ],
   "source": [
    "sampling_mode = 'real' # real, under, over, balanced\n",
    "average = 8 # n epochs to average\n",
    "\n",
    "train_set, test_set = split_by_words(dataset, 3)\n",
    "train_set.average(average)\n",
    "\n",
    "print('train_size (before averaging):', len(train_set))\n",
    "print('train_size (after averaging):', train_set.x.shape[0])\n",
    "print('test_size (no averaging):', len(test_set))\n",
    "\n",
    "data = sampling(train_set, mode=[sampling_mode])\n",
    "X, y = data[sampling_mode]['x'], data[sampling_mode]['y']\n",
    "\n",
    "print('test size after balancing:', len(y))"
   ]
  },
  {
   "cell_type": "markdown",
   "metadata": {},
   "source": [
    "Обучение модели"
   ]
  },
  {
   "cell_type": "code",
   "execution_count": 199,
   "metadata": {},
   "outputs": [
    {
     "data": {
      "text/html": [
       "<style>#sk-container-id-4 {color: black;background-color: white;}#sk-container-id-4 pre{padding: 0;}#sk-container-id-4 div.sk-toggleable {background-color: white;}#sk-container-id-4 label.sk-toggleable__label {cursor: pointer;display: block;width: 100%;margin-bottom: 0;padding: 0.3em;box-sizing: border-box;text-align: center;}#sk-container-id-4 label.sk-toggleable__label-arrow:before {content: \"▸\";float: left;margin-right: 0.25em;color: #696969;}#sk-container-id-4 label.sk-toggleable__label-arrow:hover:before {color: black;}#sk-container-id-4 div.sk-estimator:hover label.sk-toggleable__label-arrow:before {color: black;}#sk-container-id-4 div.sk-toggleable__content {max-height: 0;max-width: 0;overflow: hidden;text-align: left;background-color: #f0f8ff;}#sk-container-id-4 div.sk-toggleable__content pre {margin: 0.2em;color: black;border-radius: 0.25em;background-color: #f0f8ff;}#sk-container-id-4 input.sk-toggleable__control:checked~div.sk-toggleable__content {max-height: 200px;max-width: 100%;overflow: auto;}#sk-container-id-4 input.sk-toggleable__control:checked~label.sk-toggleable__label-arrow:before {content: \"▾\";}#sk-container-id-4 div.sk-estimator input.sk-toggleable__control:checked~label.sk-toggleable__label {background-color: #d4ebff;}#sk-container-id-4 div.sk-label input.sk-toggleable__control:checked~label.sk-toggleable__label {background-color: #d4ebff;}#sk-container-id-4 input.sk-hidden--visually {border: 0;clip: rect(1px 1px 1px 1px);clip: rect(1px, 1px, 1px, 1px);height: 1px;margin: -1px;overflow: hidden;padding: 0;position: absolute;width: 1px;}#sk-container-id-4 div.sk-estimator {font-family: monospace;background-color: #f0f8ff;border: 1px dotted black;border-radius: 0.25em;box-sizing: border-box;margin-bottom: 0.5em;}#sk-container-id-4 div.sk-estimator:hover {background-color: #d4ebff;}#sk-container-id-4 div.sk-parallel-item::after {content: \"\";width: 100%;border-bottom: 1px solid gray;flex-grow: 1;}#sk-container-id-4 div.sk-label:hover label.sk-toggleable__label {background-color: #d4ebff;}#sk-container-id-4 div.sk-serial::before {content: \"\";position: absolute;border-left: 1px solid gray;box-sizing: border-box;top: 0;bottom: 0;left: 50%;z-index: 0;}#sk-container-id-4 div.sk-serial {display: flex;flex-direction: column;align-items: center;background-color: white;padding-right: 0.2em;padding-left: 0.2em;position: relative;}#sk-container-id-4 div.sk-item {position: relative;z-index: 1;}#sk-container-id-4 div.sk-parallel {display: flex;align-items: stretch;justify-content: center;background-color: white;position: relative;}#sk-container-id-4 div.sk-item::before, #sk-container-id-4 div.sk-parallel-item::before {content: \"\";position: absolute;border-left: 1px solid gray;box-sizing: border-box;top: 0;bottom: 0;left: 50%;z-index: -1;}#sk-container-id-4 div.sk-parallel-item {display: flex;flex-direction: column;z-index: 1;position: relative;background-color: white;}#sk-container-id-4 div.sk-parallel-item:first-child::after {align-self: flex-end;width: 50%;}#sk-container-id-4 div.sk-parallel-item:last-child::after {align-self: flex-start;width: 50%;}#sk-container-id-4 div.sk-parallel-item:only-child::after {width: 0;}#sk-container-id-4 div.sk-dashed-wrapped {border: 1px dashed gray;margin: 0 0.4em 0.5em 0.4em;box-sizing: border-box;padding-bottom: 0.4em;background-color: white;}#sk-container-id-4 div.sk-label label {font-family: monospace;font-weight: bold;display: inline-block;line-height: 1.2em;}#sk-container-id-4 div.sk-label-container {text-align: center;}#sk-container-id-4 div.sk-container {/* jupyter's `normalize.less` sets `[hidden] { display: none; }` but bootstrap.min.css set `[hidden] { display: none !important; }` so we also need the `!important` here to be able to override the default hidden behavior on the sphinx rendered scikit-learn.org. See: https://github.com/scikit-learn/scikit-learn/issues/21755 */display: inline-block !important;position: relative;}#sk-container-id-4 div.sk-text-repr-fallback {display: none;}</style><div id=\"sk-container-id-4\" class=\"sk-top-container\"><div class=\"sk-text-repr-fallback\"><pre>Pipeline(steps=[(&#x27;robustscaler&#x27;, RobustScaler()),\n",
       "                (&#x27;svc&#x27;,\n",
       "                 SVC(class_weight=&#x27;balanced&#x27;, kernel=&#x27;linear&#x27;,\n",
       "                     random_state=42))])</pre><b>In a Jupyter environment, please rerun this cell to show the HTML representation or trust the notebook. <br />On GitHub, the HTML representation is unable to render, please try loading this page with nbviewer.org.</b></div><div class=\"sk-container\" hidden><div class=\"sk-item sk-dashed-wrapped\"><div class=\"sk-label-container\"><div class=\"sk-label sk-toggleable\"><input class=\"sk-toggleable__control sk-hidden--visually\" id=\"sk-estimator-id-10\" type=\"checkbox\" ><label for=\"sk-estimator-id-10\" class=\"sk-toggleable__label sk-toggleable__label-arrow\">Pipeline</label><div class=\"sk-toggleable__content\"><pre>Pipeline(steps=[(&#x27;robustscaler&#x27;, RobustScaler()),\n",
       "                (&#x27;svc&#x27;,\n",
       "                 SVC(class_weight=&#x27;balanced&#x27;, kernel=&#x27;linear&#x27;,\n",
       "                     random_state=42))])</pre></div></div></div><div class=\"sk-serial\"><div class=\"sk-item\"><div class=\"sk-estimator sk-toggleable\"><input class=\"sk-toggleable__control sk-hidden--visually\" id=\"sk-estimator-id-11\" type=\"checkbox\" ><label for=\"sk-estimator-id-11\" class=\"sk-toggleable__label sk-toggleable__label-arrow\">RobustScaler</label><div class=\"sk-toggleable__content\"><pre>RobustScaler()</pre></div></div></div><div class=\"sk-item\"><div class=\"sk-estimator sk-toggleable\"><input class=\"sk-toggleable__control sk-hidden--visually\" id=\"sk-estimator-id-12\" type=\"checkbox\" ><label for=\"sk-estimator-id-12\" class=\"sk-toggleable__label sk-toggleable__label-arrow\">SVC</label><div class=\"sk-toggleable__content\"><pre>SVC(class_weight=&#x27;balanced&#x27;, kernel=&#x27;linear&#x27;, random_state=42)</pre></div></div></div></div></div></div></div>"
      ],
      "text/plain": [
       "Pipeline(steps=[('robustscaler', RobustScaler()),\n",
       "                ('svc',\n",
       "                 SVC(class_weight='balanced', kernel='linear',\n",
       "                     random_state=42))])"
      ]
     },
     "execution_count": 199,
     "metadata": {},
     "output_type": "execute_result"
    }
   ],
   "source": [
    "model = make_pipeline(RobustScaler(), SVC(kernel='linear', class_weight='balanced', random_state=42))\n",
    "model.fit(X, y)"
   ]
  },
  {
   "cell_type": "markdown",
   "metadata": {},
   "source": [
    "Оффлайн эмулятор нейроинтрефейса  \n",
    "На вход при инициализации класса подается тестовый датасет и модель.  \n",
    "Для нейронных сетей необходимо уточнить аргумент model_type='NN'. По умолчанию 'ML'  \n",
    "Метод `OfflineBCI.pipeline()` принимает на вход число усреднений эпох,  \n",
    "на выходе получается значение ITR и точности распознавания команд."
   ]
  },
  {
   "cell_type": "code",
   "execution_count": 218,
   "metadata": {},
   "outputs": [
    {
     "name": "stdout",
     "output_type": "stream",
     "text": [
      "Total trials: 5\n",
      "Correct trials: 3\n",
      "ITR: 7.93\n",
      "Classification accuracy: 0.60\n"
     ]
    }
   ],
   "source": [
    "BCI = OfflineBCI(test_set, model)\n",
    "ITR, P = BCI.pipeline(average, summary=True)"
   ]
  },
  {
   "cell_type": "markdown",
   "metadata": {},
   "source": [
    "В ходе анализа интерфейс сохраняет информацию о целевых буквах и догадках системы, все сохраняется в словаре `OfflineBCI.result`  \n",
    "Ключи: 'target_letter' и 'guess'"
   ]
  },
  {
   "cell_type": "code",
   "execution_count": 212,
   "metadata": {},
   "outputs": [
    {
     "data": {
      "text/html": [
       "<div>\n",
       "<style scoped>\n",
       "    .dataframe tbody tr th:only-of-type {\n",
       "        vertical-align: middle;\n",
       "    }\n",
       "\n",
       "    .dataframe tbody tr th {\n",
       "        vertical-align: top;\n",
       "    }\n",
       "\n",
       "    .dataframe thead th {\n",
       "        text-align: right;\n",
       "    }\n",
       "</style>\n",
       "<table border=\"1\" class=\"dataframe\">\n",
       "  <thead>\n",
       "    <tr style=\"text-align: right;\">\n",
       "      <th></th>\n",
       "      <th>target</th>\n",
       "      <th>guess</th>\n",
       "    </tr>\n",
       "  </thead>\n",
       "  <tbody>\n",
       "    <tr>\n",
       "      <th>0</th>\n",
       "      <td>a</td>\n",
       "      <td>a</td>\n",
       "    </tr>\n",
       "    <tr>\n",
       "      <th>1</th>\n",
       "      <td>c</td>\n",
       "      <td>g</td>\n",
       "    </tr>\n",
       "    <tr>\n",
       "      <th>2</th>\n",
       "      <td>e</td>\n",
       "      <td>Fail</td>\n",
       "    </tr>\n",
       "    <tr>\n",
       "      <th>3</th>\n",
       "      <td>r</td>\n",
       "      <td>r</td>\n",
       "    </tr>\n",
       "    <tr>\n",
       "      <th>4</th>\n",
       "      <td>b</td>\n",
       "      <td>a</td>\n",
       "    </tr>\n",
       "  </tbody>\n",
       "</table>\n",
       "</div>"
      ],
      "text/plain": [
       "  target guess\n",
       "0      a     a\n",
       "1      c     g\n",
       "2      e  Fail\n",
       "3      r     r\n",
       "4      b     a"
      ]
     },
     "execution_count": 212,
     "metadata": {},
     "output_type": "execute_result"
    }
   ],
   "source": [
    "bci_answers = pd.DataFrame({'target': BCI.result['target_letter'],\n",
    "                            'guess': BCI.result['guess']})\n",
    "bci_answers"
   ]
  },
  {
   "cell_type": "markdown",
   "metadata": {},
   "source": [
    "## NN"
   ]
  },
  {
   "cell_type": "code",
   "execution_count": 49,
   "metadata": {},
   "outputs": [],
   "source": [
    "import torch\n",
    "from torch.utils.data import Dataset\n",
    "from torch.utils.data import DataLoader\n",
    "from torch import nn as nn"
   ]
  },
  {
   "cell_type": "code",
   "execution_count": 50,
   "metadata": {},
   "outputs": [],
   "source": [
    "from IPython.display import clear_output"
   ]
  },
  {
   "cell_type": "markdown",
   "metadata": {},
   "source": [
    "Определение моделей, датасета"
   ]
  },
  {
   "cell_type": "code",
   "execution_count": 51,
   "metadata": {},
   "outputs": [],
   "source": [
    "class ConvEEGNN2(nn.Module):\n",
    "\n",
    "    def __init__(self, n_eeg_channels=44):\n",
    "        super().__init__()\n",
    "        self.cnn_layers = nn.Sequential(\n",
    "            nn.Conv1d(n_eeg_channels, 16, kernel_size=10),\n",
    "            nn.ReLU(),\n",
    "            nn.Conv1d(16, 8, kernel_size=10),\n",
    "            nn.ReLU(),\n",
    "            nn.AdaptiveMaxPool1d(1),\n",
    "            nn.Flatten()\n",
    "        )\n",
    "        self.fc = nn.Linear(in_features=8, out_features=1)\n",
    "\n",
    "    def forward(self, batch):\n",
    "        out = self.cnn_layers(batch)\n",
    "        out = self.fc(out)\n",
    "        return torch.sigmoid(out)"
   ]
  },
  {
   "cell_type": "code",
   "execution_count": 52,
   "metadata": {},
   "outputs": [],
   "source": [
    "import lightning.pytorch as pl\n",
    "from torch import optim\n",
    "import torchmetrics\n",
    "\n",
    "class LitCNN(pl.LightningModule):\n",
    "    def __init__(self, model):\n",
    "        super().__init__()\n",
    "        self.model = model\n",
    "        self.accuracy = torchmetrics.classification.Accuracy(task=\"binary\")\n",
    "        self.f1 = torchmetrics.classification.BinaryF1Score()\n",
    "\n",
    "    def training_step(self, batch, batch_idx):\n",
    "        # training_step defines the train loop.\n",
    "        # it is independent of forward\n",
    "        x, y = batch\n",
    "        out = self.model(x)\n",
    "        loss = nn.functional.binary_cross_entropy(out.squeeze(1), y)\n",
    "\n",
    "        # Logging to TensorBoard (if installed) by default\n",
    "        self.log(\"train_loss\", loss)\n",
    "        return loss\n",
    "\n",
    "    def on_validation_epoch_end(self):\n",
    "        f1 = self.f1.compute()\n",
    "        self.log(\"f1\", self.f1.compute())\n",
    "        # print(\"F1 =\",f1)\n",
    "        self.f1.reset()\n",
    "        acc = self.accuracy.compute()\n",
    "        self.log(\"accuracy\", self.accuracy.compute())\n",
    "        print(\"Accuracy =\", acc)\n",
    "        self.accuracy.reset()\n",
    "\n",
    "    def validation_step(self, batch, batch_idx):\n",
    "        x, y = batch\n",
    "        out = self.model(x)\n",
    "        self.f1.update(out.squeeze(1), y)\n",
    "        self.accuracy.update(out.squeeze(1), y)\n",
    "\n",
    "\n",
    "    def configure_optimizers(self):\n",
    "        optimizer = optim.AdamW(self.parameters(), lr=1e-4)\n",
    "        return optimizer"
   ]
  },
  {
   "cell_type": "code",
   "execution_count": 155,
   "metadata": {},
   "outputs": [],
   "source": [
    "from eeg_dataset_utils import EEGDatasetAdvanced, my_train_test_split\n",
    "\n",
    "class DatasetBuilder():\n",
    "  def __init__(self, path = '/content/', subjects = [], channels = ['Pz'],\n",
    "               n_average=None, cache_dir_name='eeg_cache'):\n",
    "\n",
    "    self.dataset = EEGDatasetAdvanced(path,\n",
    "                             cache = True,\n",
    "                             subjects = subjects,\n",
    "                             load_cache=True,\n",
    "                             cache_dir_name=cache_dir_name,\n",
    "                             n_average=n_average)\n",
    "    self.dataset.pick_channels(channels)\n",
    "    self.check()\n",
    "\n",
    "  def check(self):\n",
    "    # Cheking for file errors\n",
    "    for i in range(len(self.dataset)):\n",
    "      try:\n",
    "        x = self.dataset[i]\n",
    "      except Exception as e:\n",
    "        print(e,i,self.dataset.data[i])\n",
    "\n",
    "  def calculate_mean_and_std(self):\n",
    "    loader = DataLoader(self.dataset, batch_size=len(self.dataset), shuffle=False)\n",
    "    data, labels = next(iter(loader))\n",
    "    return data.mean(dim=(0,2)) , data.std(dim=(0,2))\n",
    "\n",
    "  def __call__(self):\n",
    "    mean, std = self.calculate_mean_and_std()\n",
    "    self.dataset.transform = lambda x: (x - mean[:,None]) / std[:,None]\n",
    "    return self.dataset"
   ]
  },
  {
   "cell_type": "markdown",
   "metadata": {},
   "source": [
    "Создание датасета"
   ]
  },
  {
   "cell_type": "code",
   "execution_count": 158,
   "metadata": {},
   "outputs": [
    {
     "data": {
      "text/plain": [
       "['ak', 'as', 'az', 'dad', 'dkv', 'ds', 'dsi', 'dzg', 'eab', 'en']"
      ]
     },
     "execution_count": 158,
     "metadata": {},
     "output_type": "execute_result"
    }
   ],
   "source": [
    "dataset.available_subjects[:10]"
   ]
  },
  {
   "cell_type": "code",
   "execution_count": 185,
   "metadata": {},
   "outputs": [
    {
     "name": "stdout",
     "output_type": "stream",
     "text": [
      "Dataset length: 3599 Item shape torch.Size([8, 21])\n"
     ]
    }
   ],
   "source": [
    "from torch.utils.data import WeightedRandomSampler\n",
    "\n",
    "builder = DatasetBuilder(rd, channels = ch_set8, subjects=['ik'], cache_dir_name='eeg_cache_35Hz')\n",
    "dataset = builder()\n",
    "\n",
    "# dataset = EEGDatasetAdvanced(rd, load_cache=True, subjects=dataset.available_subjects[:10], cache_dir_name='eeg_cache_35Hz')\n",
    "# dataset.pick_channels(ch_set8)\n",
    "\n",
    "print('Dataset length:',len(dataset), \"Item shape\", dataset[0][0].shape)"
   ]
  },
  {
   "cell_type": "markdown",
   "metadata": {},
   "source": [
    "Разделение с использованием той же функции `split_by_words`"
   ]
  },
  {
   "cell_type": "code",
   "execution_count": null,
   "metadata": {},
   "outputs": [],
   "source": [
    "# train_set, test_set = my_train_test_split(dataset, size=[0.7, 0.3], control_subject=True)\n",
    "# print('train_size:', len(train_set))\n",
    "# print('test_size:', len(test_set))"
   ]
  },
  {
   "cell_type": "code",
   "execution_count": 187,
   "metadata": {},
   "outputs": [
    {
     "name": "stdout",
     "output_type": "stream",
     "text": [
      "train_size: 2699\n",
      "test_size: 900\n"
     ]
    }
   ],
   "source": [
    "train_set, test_set = split_by_words(dataset, 3)\n",
    "print('train_size:', len(train_set))\n",
    "print('test_size:', len(test_set))"
   ]
  },
  {
   "cell_type": "markdown",
   "metadata": {},
   "source": [
    "Усреднение эпох тренировочного датасета"
   ]
  },
  {
   "cell_type": "code",
   "execution_count": 188,
   "metadata": {},
   "outputs": [
    {
     "name": "stdout",
     "output_type": "stream",
     "text": [
      "train size: 336\n",
      "train size: 112\n"
     ]
    }
   ],
   "source": [
    "from copy import deepcopy\n",
    "\n",
    "average = 8\n",
    "test_set_no_average = deepcopy(test_set)\n",
    "\n",
    "train_set.average(average)\n",
    "test_set.average(average)\n",
    "print('train size:', len(train_set))\n",
    "print('train size:', len(test_set))"
   ]
  },
  {
   "cell_type": "markdown",
   "metadata": {},
   "source": [
    "Определение DataLoader'ов"
   ]
  },
  {
   "cell_type": "code",
   "execution_count": 189,
   "metadata": {},
   "outputs": [
    {
     "name": "stderr",
     "output_type": "stream",
     "text": [
      "C:\\Users\\Timot\\AppData\\Local\\Temp\\ipykernel_23128\\3668341825.py:1: DeprecationWarning: an integer is required (got type float).  Implicit conversion to integers using __int__ is deprecated, and may be removed in a future version of Python.\n",
      "  labels = torch.tensor([y.item() for _, y in train_set], dtype=torch.long)\n"
     ]
    }
   ],
   "source": [
    "labels = torch.tensor([y.item() for _, y in train_set], dtype=torch.long)\n",
    "class_weights = [8,1]\n",
    "samples_weights = torch.zeros(len(train_set))\n",
    "samples_weights[labels==0] = class_weights[0]\n",
    "samples_weights[labels==1] = class_weights[1]\n",
    "\n",
    "sampler = WeightedRandomSampler(samples_weights, len(samples_weights))\n",
    "\n",
    "train_loader = DataLoader(train_set, 64, sampler=sampler)\n",
    "test_loader = DataLoader(test_set, 64, shuffle=False)"
   ]
  },
  {
   "cell_type": "markdown",
   "metadata": {},
   "source": [
    "Обучение модели"
   ]
  },
  {
   "cell_type": "code",
   "execution_count": 191,
   "metadata": {},
   "outputs": [],
   "source": [
    "from lightning.pytorch.loggers import TensorBoardLogger\n",
    "\n",
    "pl.seed_everything(42)\n",
    "model = ConvEEGNN2(n_eeg_channels=8)\n",
    "lit_model = LitCNN(model)\n",
    "logger = TensorBoardLogger(save_dir=os.getcwd(), version=\"8ch_1s\", name=\"lightning_logs\")\n",
    "trainer = pl.Trainer(limit_train_batches=100, max_epochs=50, log_every_n_steps = 5, logger=logger)\n",
    "trainer.fit(model=lit_model, train_dataloaders=train_loader, val_dataloaders= test_loader)\n",
    "\n",
    "clear_output()"
   ]
  },
  {
   "cell_type": "markdown",
   "metadata": {},
   "source": [
    "Запуск нейроинтерфейса"
   ]
  },
  {
   "cell_type": "code",
   "execution_count": 192,
   "metadata": {},
   "outputs": [
    {
     "name": "stdout",
     "output_type": "stream",
     "text": [
      "Total trials: 5\n",
      "Correct trials: 3\n",
      "ITR: 7.93\n",
      "Classification accuracy: 0.60\n"
     ]
    }
   ],
   "source": [
    "BCI = OfflineBCI(test_set_no_average, model, model_type='NN')\n",
    "ITR, P = BCI.pipeline(average, summary=True)"
   ]
  },
  {
   "cell_type": "code",
   "execution_count": 193,
   "metadata": {},
   "outputs": [
    {
     "data": {
      "text/html": [
       "<div>\n",
       "<style scoped>\n",
       "    .dataframe tbody tr th:only-of-type {\n",
       "        vertical-align: middle;\n",
       "    }\n",
       "\n",
       "    .dataframe tbody tr th {\n",
       "        vertical-align: top;\n",
       "    }\n",
       "\n",
       "    .dataframe thead th {\n",
       "        text-align: right;\n",
       "    }\n",
       "</style>\n",
       "<table border=\"1\" class=\"dataframe\">\n",
       "  <thead>\n",
       "    <tr style=\"text-align: right;\">\n",
       "      <th></th>\n",
       "      <th>target</th>\n",
       "      <th>guess</th>\n",
       "    </tr>\n",
       "  </thead>\n",
       "  <tbody>\n",
       "    <tr>\n",
       "      <th>0</th>\n",
       "      <td>a</td>\n",
       "      <td>a</td>\n",
       "    </tr>\n",
       "    <tr>\n",
       "      <th>1</th>\n",
       "      <td>c</td>\n",
       "      <td>c</td>\n",
       "    </tr>\n",
       "    <tr>\n",
       "      <th>2</th>\n",
       "      <td>e</td>\n",
       "      <td>f</td>\n",
       "    </tr>\n",
       "    <tr>\n",
       "      <th>3</th>\n",
       "      <td>r</td>\n",
       "      <td>r</td>\n",
       "    </tr>\n",
       "    <tr>\n",
       "      <th>4</th>\n",
       "      <td>b</td>\n",
       "      <td>n</td>\n",
       "    </tr>\n",
       "  </tbody>\n",
       "</table>\n",
       "</div>"
      ],
      "text/plain": [
       "  target guess\n",
       "0      a     a\n",
       "1      c     c\n",
       "2      e     f\n",
       "3      r     r\n",
       "4      b     n"
      ]
     },
     "execution_count": 193,
     "metadata": {},
     "output_type": "execute_result"
    }
   ],
   "source": [
    "bci_answers = pd.DataFrame({'target': BCI.result['target_letter'],\n",
    "                            'guess': BCI.result['guess']})\n",
    "bci_answers"
   ]
  }
 ],
 "metadata": {
  "kernelspec": {
   "display_name": "Python 3",
   "language": "python",
   "name": "python3"
  },
  "language_info": {
   "codemirror_mode": {
    "name": "ipython",
    "version": 3
   },
   "file_extension": ".py",
   "mimetype": "text/x-python",
   "name": "python",
   "nbconvert_exporter": "python",
   "pygments_lexer": "ipython3",
   "version": "3.9.16"
  }
 },
 "nbformat": 4,
 "nbformat_minor": 2
}
